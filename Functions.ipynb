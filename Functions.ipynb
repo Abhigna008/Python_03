{
 "cells": [
  {
   "cell_type": "markdown",
   "metadata": {},
   "source": [
    "# FUNCTIONS"
   ]
  },
  {
   "cell_type": "code",
   "execution_count": 2,
   "metadata": {},
   "outputs": [
    {
     "name": "stdout",
     "output_type": "stream",
     "text": [
      "Just displaying the message!!.....\n"
     ]
    }
   ],
   "source": [
    "def display_message():\n",
    "    print(\"Just displaying the message!!.....\")\n",
    "\n",
    "    \n",
    "display_message()"
   ]
  },
  {
   "cell_type": "code",
   "execution_count": 4,
   "metadata": {},
   "outputs": [
    {
     "name": "stdout",
     "output_type": "stream",
     "text": [
      "One of my favourite books is Alice in the wonderland!.\n"
     ]
    }
   ],
   "source": [
    "def fav_book(title):\n",
    "    print(\"One of my favourite books is \"+title+\".\")\n",
    "\n",
    "\n",
    "    \n",
    "fav_book('Alice in the wonderland!')"
   ]
  },
  {
   "cell_type": "markdown",
   "metadata": {},
   "source": [
    "## Passing the arguements\n",
    "**positional arguements**\n",
    "which means that during the function call, the arguements and the parameters have to match otherwise they will not make sense!"
   ]
  },
  {
   "cell_type": "code",
   "execution_count": 5,
   "metadata": {},
   "outputs": [
    {
     "name": "stdout",
     "output_type": "stream",
     "text": [
      "I have a dog and his name is snoopy.\n"
     ]
    }
   ],
   "source": [
    "def pets(animal,name):\n",
    "    print(\"I have a \"+animal+\" and his name is \"+name+\".\")\n",
    "    \n",
    "    \n",
    "pets('dog','snoopy')"
   ]
  },
  {
   "cell_type": "code",
   "execution_count": 12,
   "metadata": {},
   "outputs": [
    {
     "name": "stdout",
     "output_type": "stream",
     "text": [
      "i have a dog\n",
      "His name is Snoopy!!..\n",
      "i have a cat\n",
      "His name is Mynie!!..\n"
     ]
    }
   ],
   "source": [
    "#giving defaule values to the parameters\n",
    "# the value given in for the parameter will be take the default value. \n",
    "#But if we describe the value in the function call, it will take that value\n",
    "def pets(name,animal = 'dog'): #NOTE: a NON DEFAULT value has to be the first parameter \n",
    "    #and only then the DEFAULT value is followed\n",
    "    print(\"i have a \"+animal+\"\\nHis name is \"+name.title()+\"!!..\")\n",
    "    \n",
    "pets('snoopy')\n",
    "pets('mynie','cat')"
   ]
  },
  {
   "cell_type": "code",
   "execution_count": 15,
   "metadata": {},
   "outputs": [
    {
     "name": "stdout",
     "output_type": "stream",
     "text": [
      "i want a t-shirt of size : M\n",
      "and with the message :\n",
      "\"I LOVE ANIMALS\"\n"
     ]
    }
   ],
   "source": [
    "#making a tshirt by passing the size and the message to be printed\n",
    "def making_tshirt(size,message):\n",
    "    print(\"i want a t-shirt of size : \"+size.upper()+\"\\nand with the message :\\n\"+message.upper())\n",
    "    \n",
    "\n",
    "    \n",
    "making_tshirt('m','\\\"i love animals\\\"')"
   ]
  },
  {
   "cell_type": "code",
   "execution_count": 2,
   "metadata": {},
   "outputs": [
    {
     "data": {
      "text/plain": [
       "'Abhigna Prasad'"
      ]
     },
     "execution_count": 2,
     "metadata": {},
     "output_type": "execute_result"
    }
   ],
   "source": [
    "#RETURN VALUE\n",
    "def gen_name(first,last):\n",
    "    full_name = f\"{first} {last}\"\n",
    "    return full_name.title()\n",
    "\n",
    "gen_name('abhigna','prasad')"
   ]
  },
  {
   "cell_type": "code",
   "execution_count": 10,
   "metadata": {},
   "outputs": [
    {
     "data": {
      "text/plain": [
       "'ABHIGNA  PRASAD'"
      ]
     },
     "execution_count": 10,
     "metadata": {},
     "output_type": "execute_result"
    }
   ],
   "source": [
    "#making an arguement optional\n",
    "#type one 1\n",
    "def gen_name(first,last,middle=''):\n",
    "    full_name = f\"{first} {middle} {last}\"\n",
    "    return full_name.upper()\n",
    "    \n",
    "gen_name('abhigna','prasad')"
   ]
  },
  {
   "cell_type": "code",
   "execution_count": 12,
   "metadata": {},
   "outputs": [
    {
     "data": {
      "text/plain": [
       "'Prasad Doreswamy Rayasam'"
      ]
     },
     "execution_count": 12,
     "metadata": {},
     "output_type": "execute_result"
    }
   ],
   "source": [
    "#type 2\n",
    "def gen_name(first,last,middle=''):\n",
    "    if middle:\n",
    "        full_name = f\"{first} {middle} {last}\"\n",
    "    else:\n",
    "        full_name = f\"{first} {last}\"\n",
    "        \n",
    "    return full_name.title()\n",
    "\n",
    "\n",
    "gen_name('prasad','rayasam','doreswamy')"
   ]
  },
  {
   "cell_type": "code",
   "execution_count": 13,
   "metadata": {},
   "outputs": [
    {
     "data": {
      "text/plain": [
       "'Arjun Raju'"
      ]
     },
     "execution_count": 13,
     "metadata": {},
     "output_type": "execute_result"
    }
   ],
   "source": [
    "gen_name('arjun','raju')"
   ]
  },
  {
   "cell_type": "code",
   "execution_count": 15,
   "metadata": {},
   "outputs": [
    {
     "data": {
      "text/plain": [
       "{'first name': 'anusha', 'last name': 'vinay'}"
      ]
     },
     "execution_count": 15,
     "metadata": {},
     "output_type": "execute_result"
    }
   ],
   "source": [
    "#returning a DICTIONARY\n",
    "def dic_ret(first,last):\n",
    "    person = {'first name' : first, 'last name' : last}\n",
    "    return person\n",
    "\n",
    "dic_ret('anusha','vinay')"
   ]
  },
  {
   "cell_type": "code",
   "execution_count": 17,
   "metadata": {},
   "outputs": [
    {
     "data": {
      "text/plain": [
       "{'first name': 'catherine', 'last name': 'namratha', 'age': '23'}"
      ]
     },
     "execution_count": 17,
     "metadata": {},
     "output_type": "execute_result"
    }
   ],
   "source": [
    "def dict_ret(first,last,age=None):\n",
    "    person = {'first name' : first, 'last name' : last}\n",
    "    if age != None:\n",
    "        person['age'] = age\n",
    "    return person\n",
    "\n",
    "dict_ret('catherine','namratha','23')"
   ]
  },
  {
   "cell_type": "code",
   "execution_count": 1,
   "metadata": {},
   "outputs": [
    {
     "data": {
      "text/plain": [
       "{'artist name': 'salena gomez', 'album title': 'fetish'}"
      ]
     },
     "execution_count": 1,
     "metadata": {},
     "output_type": "execute_result"
    }
   ],
   "source": [
    "def make_album(artist_name,album_title,number_of_songs=None):\n",
    "    song = {'artist name' : artist_name, 'album title' : album_title}\n",
    "    return song\n",
    "\n",
    "make_album('salena gomez','fetish')"
   ]
  },
  {
   "cell_type": "code",
   "execution_count": 3,
   "metadata": {},
   "outputs": [
    {
     "data": {
      "text/plain": [
       "{'Artist Name': 'Taylor Swift',\n",
       " 'Name of the Album': 'Brave',\n",
       " 'Number of Songs': '12'}"
      ]
     },
     "execution_count": 3,
     "metadata": {},
     "output_type": "execute_result"
    }
   ],
   "source": [
    "def make_album(art_name,alb_title,number_of_songs=None):\n",
    "    song = {'Artist Name' : art_name, 'Name of the Album' : alb_title}\n",
    "    if number_of_songs:\n",
    "        song['Number of Songs'] = number_of_songs\n",
    "    return song\n",
    "\n",
    "make_album('Taylor Swift','Brave','12')"
   ]
  },
  {
   "cell_type": "code",
   "execution_count": 1,
   "metadata": {},
   "outputs": [
    {
     "name": "stdout",
     "output_type": "stream",
     "text": [
      "\n",
      "\n",
      "THE ARTISTS DETAILS ON THE ALBUM ARE :\n",
      "\n",
      "enter 'q' to quit from the window\n",
      "\n"
     ]
    },
    {
     "name": "stdin",
     "output_type": "stream",
     "text": [
      "Name of the atrist is :\n",
      " Abhigna\n",
      "\n",
      "Name of the album is :\n",
      " i dont care\n",
      "\n",
      "The number of songs in the album are :\n",
      " 123123\n"
     ]
    },
    {
     "name": "stdout",
     "output_type": "stream",
     "text": [
      "The details are : {'ARTIST NAME': 'Abhigna', 'NAME OF THE ALBUM': 'i dont care', 'NUMBER OF SONGS IN THE ALBUM': '123123'}\n",
      "\n",
      "\n",
      "THE ARTISTS DETAILS ON THE ALBUM ARE :\n",
      "\n",
      "enter 'q' to quit from the window\n",
      "\n"
     ]
    },
    {
     "name": "stdin",
     "output_type": "stream",
     "text": [
      "Name of the atrist is :\n",
      " q\n"
     ]
    }
   ],
   "source": [
    "def make_album(art_name,alb_title,number=None):\n",
    "    song = {'ARTIST NAME' : art_name, 'NAME OF THE ALBUM' : alb_title}\n",
    "    if number != None:\n",
    "        song['NUMBER OF SONGS IN THE ALBUM'] = number\n",
    "    return song\n",
    "\n",
    "while True:\n",
    "    print(\"\\n\\nTHE ARTISTS DETAILS ON THE ALBUM ARE :\\n\")\n",
    "    print(\"enter 'q' to quit from the window\\n\")\n",
    "    a_name = input(\"Name of the atrist is :\\n\")\n",
    "    if a_name == 'q':\n",
    "        break\n",
    "    a_title = input(\"\\nName of the album is :\\n\")\n",
    "    if a_title == 'q':\n",
    "        break\n",
    "    n_songs = input(\"\\nThe number of songs in the album are :\\n\")\n",
    "    if n_songs == 'q':\n",
    "        break\n",
    "    album_deets = make_album(a_name,a_title,n_songs)\n",
    "    print(f\"The details are : {album_deets}\")"
   ]
  },
  {
   "cell_type": "code",
   "execution_count": 2,
   "metadata": {},
   "outputs": [
    {
     "name": "stdout",
     "output_type": "stream",
     "text": [
      "HELLLLLLLLLOOOOOOOOOOO abhigna\n",
      "HELLLLLLLLLOOOOOOOOOOO anusha\n",
      "HELLLLLLLLLOOOOOOOOOOO arjun\n",
      "HELLLLLLLLLOOOOOOOOOOO catherine\n"
     ]
    }
   ],
   "source": [
    "#passing a LIST\n",
    "def greetings(names):\n",
    "    for name in names:\n",
    "        print(f\"HELLLLLLLLLOOOOOOOOOOO {name}\")\n",
    "        \n",
    "        \n",
    "user_names = ['abhigna','anusha','arjun','catherine']\n",
    "greetings(user_names)"
   ]
  },
  {
   "cell_type": "code",
   "execution_count": null,
   "metadata": {},
   "outputs": [],
   "source": []
  }
 ],
 "metadata": {
  "kernelspec": {
   "display_name": "Python 3",
   "language": "python",
   "name": "python3"
  },
  "language_info": {
   "codemirror_mode": {
    "name": "ipython",
    "version": 3
   },
   "file_extension": ".py",
   "mimetype": "text/x-python",
   "name": "python",
   "nbconvert_exporter": "python",
   "pygments_lexer": "ipython3",
   "version": "3.7.7"
  }
 },
 "nbformat": 4,
 "nbformat_minor": 4
}
