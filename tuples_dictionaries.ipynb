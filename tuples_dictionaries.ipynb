{
 "cells": [
  {
   "cell_type": "markdown",
   "metadata": {},
   "source": [
    "# TUPLES\n",
    "### defining a tuple\n",
    "Lists are used for sorting the items and adding and doing diffrent manipulations. where as the tuples are **immutable** wherein we cannot alter or change the items. Pytyhon refers to this immutable list as **TUPLE**"
   ]
  },
  {
   "cell_type": "code",
   "execution_count": 1,
   "metadata": {},
   "outputs": [],
   "source": [
    "#defining a tuple\n",
    "dimensions = (123,234)"
   ]
  },
  {
   "cell_type": "code",
   "execution_count": 2,
   "metadata": {},
   "outputs": [
    {
     "name": "stdout",
     "output_type": "stream",
     "text": [
      "123\n",
      "234\n"
     ]
    }
   ],
   "source": [
    "print(dimensions[0])\n",
    "print(dimensions[1])"
   ]
  },
  {
   "cell_type": "markdown",
   "metadata": {},
   "source": [
    "mixed_type = ('c','o',0,'k','i','e')\n",
    "for i in mixed_type:\n",
    "    print(i,':',type(i))"
   ]
  },
  {
   "cell_type": "code",
   "execution_count": 8,
   "metadata": {},
   "outputs": [
    {
     "ename": "TypeError",
     "evalue": "'tuple' object does not support item assignment",
     "output_type": "error",
     "traceback": [
      "\u001b[1;31m---------------------------------------------------------------------------\u001b[0m",
      "\u001b[1;31mTypeError\u001b[0m                                 Traceback (most recent call last)",
      "\u001b[1;32m<ipython-input-8-738b05e8062b>\u001b[0m in \u001b[0;36m<module>\u001b[1;34m\u001b[0m\n\u001b[0;32m      1\u001b[0m \u001b[1;31m#trying to change mixed_type[2] from 0 to 'o'\u001b[0m\u001b[1;33m\u001b[0m\u001b[1;33m\u001b[0m\u001b[1;33m\u001b[0m\u001b[0m\n\u001b[1;32m----> 2\u001b[1;33m \u001b[0mmixed_type\u001b[0m\u001b[1;33m[\u001b[0m\u001b[1;36m2\u001b[0m\u001b[1;33m]\u001b[0m \u001b[1;33m=\u001b[0m \u001b[1;34m'o'\u001b[0m\u001b[1;33m\u001b[0m\u001b[1;33m\u001b[0m\u001b[0m\n\u001b[0m",
      "\u001b[1;31mTypeError\u001b[0m: 'tuple' object does not support item assignment"
     ]
    }
   ],
   "source": [
    "#trying to change mixed_type[2] from 0 to 'o'\n",
    "mixed_type[2] = 'o'"
   ]
  },
  {
   "cell_type": "code",
   "execution_count": 9,
   "metadata": {},
   "outputs": [
    {
     "name": "stdout",
     "output_type": "stream",
     "text": [
      "<class 'tuple'>\n"
     ]
    }
   ],
   "source": [
    "#another way of creating tuple\n",
    "numb_tup = 1,2,3,4,5,6,7,8\n",
    "print(type(numb_tup))"
   ]
  },
  {
   "cell_type": "code",
   "execution_count": 10,
   "metadata": {},
   "outputs": [],
   "source": [
    "check = (1,1,[3,4])"
   ]
  },
  {
   "cell_type": "code",
   "execution_count": 11,
   "metadata": {},
   "outputs": [
    {
     "data": {
      "text/plain": [
       "True"
      ]
     },
     "execution_count": 11,
     "metadata": {},
     "output_type": "execute_result"
    }
   ],
   "source": [
    "id(check[0]) == id(check[1])"
   ]
  },
  {
   "cell_type": "markdown",
   "metadata": {},
   "source": [
    "**the above example indicates that the tuples with same items will have same id values.**"
   ]
  },
  {
   "cell_type": "markdown",
   "metadata": {},
   "source": [
    "we can mutate the tuple value"
   ]
  },
  {
   "cell_type": "code",
   "execution_count": 13,
   "metadata": {},
   "outputs": [],
   "source": [
    "check[2].append(5)"
   ]
  },
  {
   "cell_type": "code",
   "execution_count": 15,
   "metadata": {},
   "outputs": [
    {
     "data": {
      "text/plain": [
       "(1, 1, [3, 4, 5])"
      ]
     },
     "execution_count": 15,
     "metadata": {},
     "output_type": "execute_result"
    }
   ],
   "source": [
    "check"
   ]
  },
  {
   "cell_type": "markdown",
   "metadata": {},
   "source": [
    "### **over-writing** of tuples can be done"
   ]
  },
  {
   "cell_type": "code",
   "execution_count": 16,
   "metadata": {},
   "outputs": [
    {
     "name": "stdout",
     "output_type": "stream",
     "text": [
      "the original dimension values are :  (123, 234)\n",
      "the modified dimensions values are :  (76421, 9218621)\n"
     ]
    }
   ],
   "source": [
    "print(\"the original dimension values are : \",dimensions)\n",
    "dimensions = (76421,9218621)\n",
    "print(\"the modified dimensions values are : \",dimensions)"
   ]
  },
  {
   "cell_type": "markdown",
   "metadata": {},
   "source": [
    "### slicing in tuples"
   ]
  },
  {
   "cell_type": "code",
   "execution_count": 17,
   "metadata": {},
   "outputs": [],
   "source": [
    "no_tup = 1,2,3,4,5,6,7,8"
   ]
  },
  {
   "cell_type": "code",
   "execution_count": 18,
   "metadata": {},
   "outputs": [
    {
     "data": {
      "text/plain": [
       "tuple"
      ]
     },
     "execution_count": 18,
     "metadata": {},
     "output_type": "execute_result"
    }
   ],
   "source": [
    "type(no_tup)"
   ]
  },
  {
   "cell_type": "code",
   "execution_count": 19,
   "metadata": {},
   "outputs": [
    {
     "data": {
      "text/plain": [
       "(2, 3, 4)"
      ]
     },
     "execution_count": 19,
     "metadata": {},
     "output_type": "execute_result"
    }
   ],
   "source": [
    "no_tup[1:4]"
   ]
  },
  {
   "cell_type": "code",
   "execution_count": 20,
   "metadata": {},
   "outputs": [
    {
     "data": {
      "text/plain": [
       "(1, 2, 3, 4, 5, 6, 7, 8)"
      ]
     },
     "execution_count": 20,
     "metadata": {},
     "output_type": "execute_result"
    }
   ],
   "source": [
    "#displaying full tuple items\n",
    "no_tup[:]"
   ]
  },
  {
   "cell_type": "markdown",
   "metadata": {},
   "source": [
    "### increment operation"
   ]
  },
  {
   "cell_type": "code",
   "execution_count": 21,
   "metadata": {},
   "outputs": [
    {
     "data": {
      "text/plain": [
       "(1, 3, 5, 7)"
      ]
     },
     "execution_count": 21,
     "metadata": {},
     "output_type": "execute_result"
    }
   ],
   "source": [
    "no_tup[::2]"
   ]
  },
  {
   "cell_type": "markdown",
   "metadata": {},
   "source": [
    "**reverse the display**"
   ]
  },
  {
   "cell_type": "code",
   "execution_count": 22,
   "metadata": {},
   "outputs": [
    {
     "data": {
      "text/plain": [
       "(8, 7, 6, 5, 4, 3, 2, 1)"
      ]
     },
     "execution_count": 22,
     "metadata": {},
     "output_type": "execute_result"
    }
   ],
   "source": [
    "no_tup[::-1]"
   ]
  },
  {
   "cell_type": "markdown",
   "metadata": {},
   "source": [
    "### TUPLE FUNCTIONS\n",
    "count() and len()"
   ]
  },
  {
   "cell_type": "code",
   "execution_count": 3,
   "metadata": {},
   "outputs": [],
   "source": [
    "#count returns the number of occurances in the tuple.\n",
    "example = 1,2,3,4,4,2,3,9,8,8"
   ]
  },
  {
   "cell_type": "code",
   "execution_count": 4,
   "metadata": {},
   "outputs": [
    {
     "data": {
      "text/plain": [
       "tuple"
      ]
     },
     "execution_count": 4,
     "metadata": {},
     "output_type": "execute_result"
    }
   ],
   "source": [
    "type(example)"
   ]
  },
  {
   "cell_type": "code",
   "execution_count": 5,
   "metadata": {},
   "outputs": [
    {
     "data": {
      "text/plain": [
       "2"
      ]
     },
     "execution_count": 5,
     "metadata": {},
     "output_type": "execute_result"
    }
   ],
   "source": [
    "example.count(8)"
   ]
  },
  {
   "cell_type": "code",
   "execution_count": 6,
   "metadata": {},
   "outputs": [
    {
     "data": {
      "text/plain": [
       "10"
      ]
     },
     "execution_count": 6,
     "metadata": {},
     "output_type": "execute_result"
    }
   ],
   "source": [
    "len(example)"
   ]
  },
  {
   "cell_type": "code",
   "execution_count": 7,
   "metadata": {},
   "outputs": [
    {
     "name": "stdout",
     "output_type": "stream",
     "text": [
      "True\n"
     ]
    }
   ],
   "source": [
    "print(any(example))"
   ]
  },
  {
   "cell_type": "code",
   "execution_count": 8,
   "metadata": {},
   "outputs": [
    {
     "data": {
      "text/plain": [
       "1"
      ]
     },
     "execution_count": 8,
     "metadata": {},
     "output_type": "execute_result"
    }
   ],
   "source": [
    "min(example)"
   ]
  },
  {
   "cell_type": "code",
   "execution_count": 9,
   "metadata": {},
   "outputs": [
    {
     "data": {
      "text/plain": [
       "9"
      ]
     },
     "execution_count": 9,
     "metadata": {},
     "output_type": "execute_result"
    }
   ],
   "source": [
    "max(example)"
   ]
  },
  {
   "cell_type": "code",
   "execution_count": 10,
   "metadata": {},
   "outputs": [
    {
     "data": {
      "text/plain": [
       "44"
      ]
     },
     "execution_count": 10,
     "metadata": {},
     "output_type": "execute_result"
    }
   ],
   "source": [
    "sum(example)"
   ]
  },
  {
   "cell_type": "code",
   "execution_count": 11,
   "metadata": {},
   "outputs": [
    {
     "data": {
      "text/plain": [
       "[1, 2, 2, 3, 3, 4, 4, 8, 8, 9]"
      ]
     },
     "execution_count": 11,
     "metadata": {},
     "output_type": "execute_result"
    }
   ],
   "source": [
    "sorted(example)"
   ]
  },
  {
   "cell_type": "markdown",
   "metadata": {},
   "source": [
    "### assign MULTIPLE VALUES to the tuple"
   ]
  },
  {
   "cell_type": "code",
   "execution_count": 12,
   "metadata": {},
   "outputs": [],
   "source": [
    "a = (1,2,3)"
   ]
  },
  {
   "cell_type": "code",
   "execution_count": 13,
   "metadata": {},
   "outputs": [],
   "source": [
    "(one,two,three) = a"
   ]
  },
  {
   "cell_type": "code",
   "execution_count": 14,
   "metadata": {},
   "outputs": [
    {
     "name": "stdout",
     "output_type": "stream",
     "text": [
      "1\n",
      "2\n",
      "3\n"
     ]
    }
   ],
   "source": [
    "print(one)\n",
    "print(two)\n",
    "print(three)"
   ]
  },
  {
   "cell_type": "markdown",
   "metadata": {},
   "source": [
    "the above example states that 1,2,3 are the items of 'a' and (one,two,three) are variable assignments for the values.\n",
    "and hence we can print out the values with variable names!"
   ]
  },
  {
   "cell_type": "markdown",
   "metadata": {},
   "source": [
    "# DICTIONARIES"
   ]
  },
  {
   "cell_type": "code",
   "execution_count": 1,
   "metadata": {},
   "outputs": [],
   "source": [
    "#declaring a dictionary\n",
    "nums = {'one':'1','two':'2','three':'3'}"
   ]
  },
  {
   "cell_type": "code",
   "execution_count": 2,
   "metadata": {},
   "outputs": [
    {
     "data": {
      "text/plain": [
       "{'one': '1', 'two': '2', 'three': '3'}"
      ]
     },
     "execution_count": 2,
     "metadata": {},
     "output_type": "execute_result"
    }
   ],
   "source": [
    "nums"
   ]
  },
  {
   "cell_type": "code",
   "execution_count": 4,
   "metadata": {},
   "outputs": [
    {
     "data": {
      "text/plain": [
       "'1'"
      ]
     },
     "execution_count": 4,
     "metadata": {},
     "output_type": "execute_result"
    }
   ],
   "source": [
    "#accessing the items in the dictionary\n",
    "nums['one']"
   ]
  },
  {
   "cell_type": "code",
   "execution_count": 5,
   "metadata": {},
   "outputs": [],
   "source": [
    "#adding new values into the dictionary\n",
    "nums['four']='4'"
   ]
  },
  {
   "cell_type": "code",
   "execution_count": 6,
   "metadata": {},
   "outputs": [
    {
     "data": {
      "text/plain": [
       "{'one': '1', 'two': '2', 'three': '3', 'four': '4'}"
      ]
     },
     "execution_count": 6,
     "metadata": {},
     "output_type": "execute_result"
    }
   ],
   "source": [
    "nums"
   ]
  },
  {
   "cell_type": "code",
   "execution_count": 7,
   "metadata": {},
   "outputs": [],
   "source": [
    "#modifying the values\n",
    "nums['four']='FOUR'"
   ]
  },
  {
   "cell_type": "code",
   "execution_count": 8,
   "metadata": {},
   "outputs": [
    {
     "data": {
      "text/plain": [
       "{'one': '1', 'two': '2', 'three': '3', 'four': 'FOUR'}"
      ]
     },
     "execution_count": 8,
     "metadata": {},
     "output_type": "execute_result"
    }
   ],
   "source": [
    "nums"
   ]
  },
  {
   "cell_type": "code",
   "execution_count": 2,
   "metadata": {},
   "outputs": [],
   "source": [
    "#removing a key value pair\n",
    "names = {'abhigna':'prasad','arjun':'raju','anusha':'vinay'}\n",
    "del names['abhigna']"
   ]
  },
  {
   "cell_type": "code",
   "execution_count": 3,
   "metadata": {},
   "outputs": [
    {
     "data": {
      "text/plain": [
       "{'arjun': 'raju', 'anusha': 'vinay'}"
      ]
     },
     "execution_count": 3,
     "metadata": {},
     "output_type": "execute_result"
    }
   ],
   "source": [
    "names"
   ]
  },
  {
   "cell_type": "markdown",
   "metadata": {},
   "source": [
    "### activity"
   ]
  },
  {
   "cell_type": "code",
   "execution_count": 4,
   "metadata": {},
   "outputs": [],
   "source": [
    "person_details = {'first_name':'Abhigna','last_name':'prasad','age':'22','city':'Bengaluru'}"
   ]
  },
  {
   "cell_type": "code",
   "execution_count": 5,
   "metadata": {},
   "outputs": [
    {
     "name": "stdout",
     "output_type": "stream",
     "text": [
      "Abhigna\n"
     ]
    }
   ],
   "source": [
    "print(person_details['first_name'])"
   ]
  },
  {
   "cell_type": "code",
   "execution_count": 6,
   "metadata": {},
   "outputs": [
    {
     "name": "stdout",
     "output_type": "stream",
     "text": [
      "prasad\n"
     ]
    }
   ],
   "source": [
    "print(person_details['last_name'])"
   ]
  },
  {
   "cell_type": "code",
   "execution_count": 7,
   "metadata": {},
   "outputs": [
    {
     "name": "stdout",
     "output_type": "stream",
     "text": [
      "22\n"
     ]
    }
   ],
   "source": [
    "print(person_details['age'])"
   ]
  },
  {
   "cell_type": "code",
   "execution_count": 8,
   "metadata": {},
   "outputs": [
    {
     "name": "stdout",
     "output_type": "stream",
     "text": [
      "Bengaluru\n"
     ]
    }
   ],
   "source": [
    "print(person_details['city'])"
   ]
  },
  {
   "cell_type": "code",
   "execution_count": 9,
   "metadata": {},
   "outputs": [
    {
     "name": "stdout",
     "output_type": "stream",
     "text": [
      "8\n",
      "31\n",
      "17\n",
      "18\n"
     ]
    }
   ],
   "source": [
    "fav_numbers = {'abhigna':'8','arjun':'31','anusha':'17','cathy':'18'}\n",
    "print(fav_numbers['abhigna'])\n",
    "print(fav_numbers['arjun'])\n",
    "print(fav_numbers['anusha'])\n",
    "print(fav_numbers['cathy'])"
   ]
  },
  {
   "cell_type": "markdown",
   "metadata": {},
   "source": [
    "### looping through the dictionary\n",
    "**through key value pairs in the dictionary**"
   ]
  },
  {
   "cell_type": "code",
   "execution_count": 10,
   "metadata": {},
   "outputs": [
    {
     "data": {
      "text/plain": [
       "{'abhigna': '8', 'arjun': '31', 'anusha': '17', 'cathy': '18'}"
      ]
     },
     "execution_count": 10,
     "metadata": {},
     "output_type": "execute_result"
    }
   ],
   "source": [
    "fav_numbers"
   ]
  },
  {
   "cell_type": "code",
   "execution_count": 11,
   "metadata": {},
   "outputs": [
    {
     "name": "stdout",
     "output_type": "stream",
     "text": [
      "ABHIGNA's birthday is on 8.\n",
      "ARJUN's birthday is on 31.\n",
      "ANUSHA's birthday is on 17.\n",
      "CATHY's birthday is on 18.\n",
      "the dictionary list is done here!\n"
     ]
    }
   ],
   "source": [
    "for name,dob in fav_numbers.items(): #.items() is used because it will return all the items in the dictionary\n",
    "    print(name.upper()+\"'s birthday is on \"+dob+\".\")\n",
    "print(\"the dictionary list is done here!\")"
   ]
  },
  {
   "cell_type": "markdown",
   "metadata": {},
   "source": [
    "**looping through all the keys in the dictionary**"
   ]
  },
  {
   "cell_type": "code",
   "execution_count": 2,
   "metadata": {},
   "outputs": [],
   "source": [
    "fav_languages = {'Abhigna':'python','arjun':'java','anusha':'c','catherine':'msw'}"
   ]
  },
  {
   "cell_type": "code",
   "execution_count": 3,
   "metadata": {},
   "outputs": [
    {
     "name": "stdout",
     "output_type": "stream",
     "text": [
      "ABHIGNA\n",
      "ARJUN\n",
      "ANUSHA\n",
      "CATHERINE\n"
     ]
    }
   ],
   "source": [
    "for k in fav_languages.keys():\n",
    "    print(k.upper())"
   ]
  },
  {
   "cell_type": "code",
   "execution_count": 4,
   "metadata": {},
   "outputs": [
    {
     "name": "stdout",
     "output_type": "stream",
     "text": [
      "Abhigna\n",
      "Arjun\n",
      "Anusha\n",
      "Catherine\n"
     ]
    }
   ],
   "source": [
    "for key in fav_languages:\n",
    "    print(key.title())"
   ]
  },
  {
   "cell_type": "code",
   "execution_count": 8,
   "metadata": {},
   "outputs": [
    {
     "name": "stdout",
     "output_type": "stream",
     "text": [
      "any() this method means : iterator.\n",
      "sorted() this method means : temporary sort.\n",
      "del() this method means : delets the item.\n",
      "pop() this method means : removes item from the end.\n"
     ]
    }
   ],
   "source": [
    "key_words = {'any()':'iterator','sorted()':'temporary sort','del()':'delets the item','pop()':'removes item from the end'}\n",
    "for k,v in key_words.items():\n",
    "    print(k+\" this method means : \"+v+\".\")"
   ]
  },
  {
   "cell_type": "code",
   "execution_count": 12,
   "metadata": {},
   "outputs": [
    {
     "name": "stdout",
     "output_type": "stream",
     "text": [
      "Nile is the water basin of egypt.\n",
      "Ganges is the water basin of india.\n",
      "Arabian Sea is the water basin of africa.\n",
      "\n",
      "the rivers are : \n",
      "\n",
      "one of the major river is : Nile.\n",
      "one of the major river is : Ganges.\n",
      "one of the major river is : Arabian Sea.\n",
      "\n",
      "the countries are : \n",
      "\n",
      "the countries are : Egypt.\n",
      "the countries are : India.\n",
      "the countries are : Africa.\n"
     ]
    }
   ],
   "source": [
    "river_country = {'nile':'egypt','ganges':'india','arabian sea':'africa'}\n",
    "for ke,va in river_country.items():\n",
    "    print(ke.title()+\" is the water basin of \"+va+\".\")\n",
    "print(\"\\nthe rivers are : \\n\")\n",
    "for ke in river_country:\n",
    "    print(\"one of the major river is : \"+ke.title()+\".\")\n",
    "print(\"\\nthe countries are : \\n\")\n",
    "for va in river_country.values():\n",
    "    print(\"the countries are : \"+va.title()+\".\")"
   ]
  },
  {
   "cell_type": "code",
   "execution_count": 15,
   "metadata": {},
   "outputs": [
    {
     "name": "stdout",
     "output_type": "stream",
     "text": [
      "Jen thankyou for taking the poll\n",
      "Sarah please consider tsking the poll!!\n",
      "Edward thankyou for taking the poll\n",
      "Phil please consider tsking the poll!!\n"
     ]
    }
   ],
   "source": [
    " favorite_languages = {\n",
    "       'jen': 'python',\n",
    "       'sarah': 'c',\n",
    "       'edward': 'ruby',\n",
    "       'phil': 'python',\n",
    "       }\n",
    "people_lang = ['jen', 'edward' ,'abhigna' ,'arjun' ,'aloobonda']\n",
    "for k,v in favorite_languages.items():\n",
    "    if k in people_lang:\n",
    "        print(k.title()+\" thankyou for taking the poll\")\n",
    "    else:\n",
    "        print(k.title()+\" please consider tsking the poll!!\")"
   ]
  },
  {
   "cell_type": "markdown",
   "metadata": {},
   "source": [
    "### A list of dictionaries\n",
    "we can add diffrent dictionaries and contain them in a list"
   ]
  },
  {
   "cell_type": "code",
   "execution_count": 1,
   "metadata": {},
   "outputs": [
    {
     "name": "stdout",
     "output_type": "stream",
     "text": [
      "{'colour': 'green', 'points': '5', 'speed': 'slow'}\n",
      "{'colour': 'yellow', 'points': '10'}\n"
     ]
    }
   ],
   "source": [
    "alien_0 = {'colour':'green','points':'5','speed':'slow'}\n",
    "alien_1 = {'colour':'yellow','points':'10'}\n",
    "aliens = [alien_0,alien_1]\n",
    "for alien in aliens:\n",
    "    print(alien)"
   ]
  },
  {
   "cell_type": "code",
   "execution_count": 22,
   "metadata": {},
   "outputs": [
    {
     "name": "stdout",
     "output_type": "stream",
     "text": [
      "{'colour': 'pink', 'points': '100'}\n",
      "{'colour': 'pink', 'points': '100'}\n",
      "{'colour': 'pink', 'points': '100'}\n",
      "{'colour': 'balack', 'points': '50'}\n",
      "{'colour': 'balack', 'points': '50'}\n"
     ]
    }
   ],
   "source": [
    "space_creatures = []\n",
    "for alien_number in range(0,30):\n",
    "    new_alien = {'colour':'balack','points':'50'}\n",
    "    space_creatures.append(new_alien)\n",
    "    \n",
    "for alaian in space_creatures[0:3]:\n",
    "    if alaian['colour'] == 'balack':\n",
    "        alaian['colour'] = 'pink'\n",
    "        alaian['points'] = '100'\n",
    "        \n",
    "for alaian in space_creatures[0:5]:\n",
    "    print(alaian)"
   ]
  },
  {
   "cell_type": "markdown",
   "metadata": {},
   "source": [
    "### a list in a Dictionary\n",
    "rather than adding the dictionary into the list, its better adding the list into the dictionary"
   ]
  },
  {
   "cell_type": "code",
   "execution_count": 24,
   "metadata": {},
   "outputs": [
    {
     "name": "stdout",
     "output_type": "stream",
     "text": [
      "you ordered a thick crust pizza with the following toppings\n",
      "corn\n",
      "capsicum\n",
      "olives\n",
      "cheese\n"
     ]
    }
   ],
   "source": [
    "pizza = {'crust':'thick','toppings':['corn','capsicum','olives','cheese']}\n",
    "print('you ordered a ' +pizza['crust']+' crust pizza with the following toppings')\n",
    "for topping in pizza['toppings']:\n",
    "    print(topping)"
   ]
  },
  {
   "cell_type": "code",
   "execution_count": 27,
   "metadata": {},
   "outputs": [
    {
     "name": "stdout",
     "output_type": "stream",
     "text": [
      "\n",
      "Abhigna's favourite languages are :\n",
      "python\n",
      "javascript\n",
      "\n",
      "Arjun's favourite languages are :\n",
      "html\n",
      "css\n",
      "\n",
      "Anusha's favourite languages are :\n",
      "c\n",
      "cpp\n",
      "java\n"
     ]
    }
   ],
   "source": [
    "#second example\n",
    "favourite_languages = {'abhigna':['python','javascript'], 'arjun':['html','css'],'anusha':['c','cpp','java']}\n",
    "for name,languages in favourite_languages.items():\n",
    "    print(\"\\n\"+name.title()+\"'s favourite languages are :\")\n",
    "    for language in languages:\n",
    "        print(language)"
   ]
  },
  {
   "cell_type": "markdown",
   "metadata": {},
   "source": [
    "### dictionary in dictionary"
   ]
  },
  {
   "cell_type": "code",
   "execution_count": 35,
   "metadata": {},
   "outputs": [
    {
     "name": "stdout",
     "output_type": "stream",
     "text": [
      "The user name : \n",
      "aprasad\n",
      "with the details : \n",
      "Full name : Abhigna Prasad\n",
      "Location : Bengaluru\n",
      "\n",
      "The user name : \n",
      "araju\n",
      "with the details : \n",
      "Full name : Arjun Raju\n",
      "Location : Kolar\n",
      "\n",
      "The user name : \n",
      "avinay\n",
      "with the details : \n",
      "Full name : Anusha Vinay\n",
      "Location : Kerala\n",
      "\n"
     ]
    }
   ],
   "source": [
    "users = {'aprasad':{'firstname':'abhigna','lastname':'prasad','location':'bengaluru'},\n",
    "        'araju':{'firstname':'arjun','lastname':'raju','location':'kolar'},\n",
    "        'avinay':{'firstname':'anusha','lastname':'vinay','location':'kerala'}}\n",
    "for uname,deets in users.items():\n",
    "    print(\"The user name : \\n\"+uname+\"\\nwith the details : \")\n",
    "    full_name = deets['firstname'].title()+\" \"+deets['lastname'].title()\n",
    "    location = deets['location']\n",
    "    print(\"Full name : \"+full_name)\n",
    "    print(\"Location : \"+location.title()+\"\\n\")"
   ]
  },
  {
   "cell_type": "markdown",
   "metadata": {},
   "source": [
    "### activity\n",
    "create 3 dictionaries and store values of diffrent people. Use first_name, last_name, age and city as the keys.. and create a list called people and add all these information there and print the details."
   ]
  },
  {
   "cell_type": "code",
   "execution_count": 1,
   "metadata": {},
   "outputs": [
    {
     "name": "stdout",
     "output_type": "stream",
     "text": [
      "{'first_name': 'abhigna', 'last_name': 'prasad', 'age': '21', 'city': 'bengaluru'}\n",
      "{'first_name': 'arjun', 'last_name': 'raju', 'age': '28', 'city': 'kolar'}\n",
      "{'first_name': 'anusha', 'last_name': 'vinay', 'age': '22', 'city': 'kerala'}\n"
     ]
    }
   ],
   "source": [
    "person_1 = {'first_name':'abhigna','last_name':'prasad','age':'21','city':'bengaluru'}\n",
    "person_2 = {'first_name':'arjun','last_name':'raju','age':'28','city':'kolar'}\n",
    "person_3 = {'first_name':'anusha','last_name':'vinay','age':'22','city':'kerala'}\n",
    "\n",
    "person = [person_1, person_2, person_3]\n",
    "\n",
    "for people in person:\n",
    "    print(people)"
   ]
  },
  {
   "cell_type": "markdown",
   "metadata": {},
   "source": [
    "make a dictionary fav_places. think of 3 names to use as keys in the dictionary and save one to three places for each person and print the details"
   ]
  },
  {
   "cell_type": "code",
   "execution_count": null,
   "metadata": {},
   "outputs": [],
   "source": []
  }
 ],
 "metadata": {
  "kernelspec": {
   "display_name": "Python 3",
   "language": "python",
   "name": "python3"
  },
  "language_info": {
   "codemirror_mode": {
    "name": "ipython",
    "version": 3
   },
   "file_extension": ".py",
   "mimetype": "text/x-python",
   "name": "python",
   "nbconvert_exporter": "python",
   "pygments_lexer": "ipython3",
   "version": "3.7.7"
  }
 },
 "nbformat": 4,
 "nbformat_minor": 4
}
